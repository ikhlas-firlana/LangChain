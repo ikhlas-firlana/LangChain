{
 "cells": [
  {
   "cell_type": "code",
   "execution_count": 1,
   "metadata": {
    "collapsed": true
   },
   "outputs": [],
   "source": [
    "import pprint\n",
    "import os\n",
    "from social_media.linkedin_scrape import scrape_linkedin_profile\n",
    "\n",
    "from langchain_core.prompts import PromptTemplate\n",
    "from langchain_core.output_parsers import StrOutputParser\n",
    "# from langchain_openai import ChatOpenAI\n",
    "from langchain_ollama import OllamaLLM\n",
    "from dotenv import load_dotenv\n",
    "\n",
    "information = scrape_linkedin_profile(\"\", True)\n",
    "\n",
    "summary_template = \"\"\"\n",
    "    Based on this information:\n",
    "    {information}\n",
    "\n",
    "    Generate:\n",
    "    1. A concise summary.\n",
    "    2. Two interesting facts.\n",
    "\"\"\"\n",
    "\n",
    "summary_prompt_template = PromptTemplate(\n",
    "        input_variables=[\"information\"], template=summary_template\n",
    ")\n",
    "\n",
    "formatted_prompt = summary_prompt_template.format(information=information)"
   ]
  },
  {
   "cell_type": "code",
   "execution_count": 2,
   "outputs": [
    {
     "data": {
      "text/plain": "True"
     },
     "execution_count": 2,
     "metadata": {},
     "output_type": "execute_result"
    }
   ],
   "source": [
    "# LOAD env Variable\n",
    "load_dotenv()"
   ],
   "metadata": {
    "collapsed": false
   }
  },
  {
   "cell_type": "code",
   "execution_count": 6,
   "outputs": [
    {
     "data": {
      "text/plain": "OllamaLLM(model='gemma:2b', temperature=0.3, stop=['\\nUser:', 'Observation:'], base_url='http://192.168.1.8:11434')"
     },
     "execution_count": 6,
     "metadata": {},
     "output_type": "execute_result"
    }
   ],
   "source": [
    "llm = OllamaLLM(\n",
    "    model=\"gemma:2b\",\n",
    "    stop=[\"\\nUser:\", \"Observation:\"],  # Sequences that will stop generation\n",
    "    temperature=0.3,  # Lower temperature for more focused, less verbose output\n",
    "    base_url=os.getenv('OLLAMA_HOST'),\n",
    ")\n",
    "llm"
   ],
   "metadata": {
    "collapsed": false
   }
  },
  {
   "cell_type": "code",
   "execution_count": 7,
   "outputs": [
    {
     "data": {
      "text/plain": "PromptTemplate(input_variables=['information'], input_types={}, partial_variables={}, template='\\n    Based on this information:\\n    {information}\\n\\n    Generate:\\n    1. A concise summary.\\n    2. Two interesting facts.\\n')\n| OllamaLLM(model='gemma:2b', temperature=0.3, stop=['\\nUser:', 'Observation:'], base_url='http://192.168.1.8:11434')\n| StrOutputParser()"
     },
     "execution_count": 7,
     "metadata": {},
     "output_type": "execute_result"
    }
   ],
   "source": [
    "chain = summary_prompt_template | llm | StrOutputParser()\n",
    "chain"
   ],
   "metadata": {
    "collapsed": false
   }
  },
  {
   "cell_type": "code",
   "execution_count": 8,
   "outputs": [
    {
     "data": {
      "text/plain": "'**Summary**\\n\\nThis profile showcases a diverse range of skills and experiences in the technology industry. The individual has a strong background in full-stack development, with experience in technologies such as Node.js, React, and MongoDB. They also have skills in front-end development with experience in HTML, CSS, and JavaScript. Additionally, they have knowledge of DevOps tools and technologies.\\n\\n**Interesting Facts**\\n\\n1. The individual has worked with a variety of companies, including Krom Bank Indonesia, PT. Nusantara Genetika, and the University of Indonesia.\\n2. They have participated in several workshops and conferences related to the tech industry.\\n\\n**Additional Information**\\n\\n* **Connections:** 500\\n* **People also viewed:** A list of LinkedIn profiles with interesting connections to the individual.\\n* **Recommendations:** No recommendations were provided in the context.'"
     },
     "execution_count": 8,
     "metadata": {},
     "output_type": "execute_result"
    }
   ],
   "source": [
    "res = chain.invoke(input={\"information\": information})\n",
    "res "
   ],
   "metadata": {
    "collapsed": false
   }
  }
 ],
 "metadata": {
  "kernelspec": {
   "display_name": "Python 3",
   "language": "python",
   "name": "python3"
  },
  "language_info": {
   "codemirror_mode": {
    "name": "ipython",
    "version": 2
   },
   "file_extension": ".py",
   "mimetype": "text/x-python",
   "name": "python",
   "nbconvert_exporter": "python",
   "pygments_lexer": "ipython2",
   "version": "2.7.6"
  }
 },
 "nbformat": 4,
 "nbformat_minor": 0
}
