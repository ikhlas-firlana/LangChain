{
 "cells": [
  {
   "cell_type": "markdown",
   "source": [
    "# Load Package"
   ],
   "metadata": {
    "collapsed": false
   }
  },
  {
   "cell_type": "code",
   "execution_count": 8,
   "outputs": [],
   "source": [
    "from langchain_core.prompts import PromptTemplate\n",
    "from langchain_core.output_parsers import StrOutputParser\n",
    "# from langchain_openai import ChatOpenAI\n",
    "from langchain_ollama import OllamaLLM\n",
    "from dotenv import load_dotenv"
   ],
   "metadata": {
    "collapsed": false
   }
  },
  {
   "cell_type": "code",
   "execution_count": 9,
   "outputs": [],
   "source": [
    "information = \"\"\"\n",
    "Elon Reeve Musk is a businessman known for his leadership of Tesla, SpaceX, and X (formerly Twitter). In early 2025, he served as senior advisor to United States president Donald Trump and as the de facto head of the Department of Government Efficiency (DOGE).\n",
    "\"\"\""
   ],
   "metadata": {
    "collapsed": false
   }
  },
  {
   "cell_type": "code",
   "execution_count": 10,
   "outputs": [
    {
     "name": "stdout",
     "output_type": "stream",
     "text": [
      "ice breaker\n"
     ]
    }
   ],
   "source": [
    "load_dotenv()\n",
    "print(\"ice breaker\")"
   ],
   "metadata": {
    "collapsed": false
   }
  },
  {
   "cell_type": "code",
   "execution_count": 11,
   "outputs": [
    {
     "data": {
      "text/plain": "'\\n    Based on this information:\\n    {information}\\n\\n    Generate:\\n    1. A concise summary.\\n    2. Two interesting facts.\\n'"
     },
     "execution_count": 11,
     "metadata": {},
     "output_type": "execute_result"
    }
   ],
   "source": [
    "summary_template = \"\"\"\n",
    "    Based on this information:\n",
    "    {information}\n",
    "\n",
    "    Generate:\n",
    "    1. A concise summary.\n",
    "    2. Two interesting facts.\n",
    "\"\"\"\n",
    "summary_template"
   ],
   "metadata": {
    "collapsed": false
   }
  },
  {
   "cell_type": "code",
   "execution_count": 12,
   "outputs": [
    {
     "data": {
      "text/plain": "PromptTemplate(input_variables=['information'], input_types={}, partial_variables={}, template='\\n    Based on this information:\\n    {information}\\n\\n    Generate:\\n    1. A concise summary.\\n    2. Two interesting facts.\\n')"
     },
     "execution_count": 12,
     "metadata": {},
     "output_type": "execute_result"
    }
   ],
   "source": [
    "summary_prompt_template = PromptTemplate(\n",
    "        input_variables=[\"information\"], template=summary_template\n",
    ")\n",
    "summary_prompt_template"
   ],
   "metadata": {
    "collapsed": false
   }
  },
  {
   "cell_type": "code",
   "execution_count": 13,
   "outputs": [
    {
     "data": {
      "text/plain": "'\\n    Based on this information:\\n    \\nElon Reeve Musk is a businessman known for his leadership of Tesla, SpaceX, and X (formerly Twitter). In early 2025, he served as senior advisor to United States president Donald Trump and as the de facto head of the Department of Government Efficiency (DOGE).\\n\\n\\n    Generate:\\n    1. A concise summary.\\n    2. Two interesting facts.\\n'"
     },
     "execution_count": 13,
     "metadata": {},
     "output_type": "execute_result"
    }
   ],
   "source": [
    "formatted_prompt = summary_prompt_template.format(information=information)\n",
    "formatted_prompt"
   ],
   "metadata": {
    "collapsed": false
   }
  },
  {
   "cell_type": "code",
   "execution_count": 14,
   "outputs": [
    {
     "data": {
      "text/plain": "OllamaLLM(model='gemma:2b')"
     },
     "execution_count": 14,
     "metadata": {},
     "output_type": "execute_result"
    }
   ],
   "source": [
    "# llm = ChatOpenAI(model=\"gpt-3.5-turbo\", temperature=0)\n",
    "llm = OllamaLLM(model=\"gemma:2b\")\n",
    "llm"
   ],
   "metadata": {
    "collapsed": false
   }
  },
  {
   "cell_type": "markdown",
   "source": [],
   "metadata": {
    "collapsed": false
   }
  },
  {
   "cell_type": "code",
   "execution_count": 17,
   "outputs": [
    {
     "data": {
      "text/plain": "PromptTemplate(input_variables=['information'], input_types={}, partial_variables={}, template='\\n    Based on this information:\\n    {information}\\n\\n    Generate:\\n    1. A concise summary.\\n    2. Two interesting facts.\\n')\n| OllamaLLM(model='gemma:2b')\n| StrOutputParser()"
     },
     "execution_count": 17,
     "metadata": {},
     "output_type": "execute_result"
    }
   ],
   "source": [
    "chain = summary_prompt_template | llm | StrOutputParser()\n",
    "chain"
   ],
   "metadata": {
    "collapsed": false
   }
  },
  {
   "cell_type": "code",
   "execution_count": 18,
   "outputs": [
    {
     "data": {
      "text/plain": "'**1. Concise Summary**\\nElon Musk is a prominent entrepreneur and business magnate known for his leadership roles in Tesla, SpaceX, and X (formerly Twitter). He served as senior advisor to former President Donald Trump and was the de facto head of the Department of Government Efficiency.\\n\\n**2. Interesting Facts**\\n- Musk served as a senior advisor to President Trump during a time of heightened political discourse.\\n- He was the de facto head of the Department of Government Efficiency, a newly created agency tasked with streamlining government operations.'"
     },
     "execution_count": 18,
     "metadata": {},
     "output_type": "execute_result"
    }
   ],
   "source": [
    "res = chain.invoke(input={\"information\": information})\n",
    "res"
   ],
   "metadata": {
    "collapsed": false
   }
  }
 ],
 "metadata": {
  "kernelspec": {
   "display_name": "Python 3",
   "language": "python",
   "name": "python3"
  },
  "language_info": {
   "codemirror_mode": {
    "name": "ipython",
    "version": 2
   },
   "file_extension": ".py",
   "mimetype": "text/x-python",
   "name": "python",
   "nbconvert_exporter": "python",
   "pygments_lexer": "ipython2",
   "version": "2.7.6"
  }
 },
 "nbformat": 4,
 "nbformat_minor": 0
}
